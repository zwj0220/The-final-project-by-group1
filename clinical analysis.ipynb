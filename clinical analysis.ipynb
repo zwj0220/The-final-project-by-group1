{
 "cells": [
  {
   "cell_type": "code",
   "execution_count": 54,
   "metadata": {},
   "outputs": [],
   "source": [
    "import pandas as pd\n",
    "import matplotlib.pyplot as plt\n",
    "import numpy as np\n",
    "import pandas as pd\n",
    "from pandas import Series,DataFrame\n",
    "from scipy.sparse import hstack,vstack,csc_matrix\n",
    "from scipy import sparse\n",
    "import re\n",
    "from matplotlib.backends.backend_pdf import PdfPages\n",
    "#import leidenalg\n",
    "import seaborn as sns\n",
    "import pandas as pd\n",
    "import numpy as np\n",
    "import matplotlib.pyplot as plt\n",
    "from statannot import add_stat_annotation\n",
    "from scipy.stats import chi2_contingency"
   ]
  },
  {
   "cell_type": "code",
   "execution_count": 2,
   "metadata": {},
   "outputs": [],
   "source": [
    "save_path=\"D:\\CCLE\\pic\""
   ]
  },
  {
   "cell_type": "code",
   "execution_count": 3,
   "metadata": {},
   "outputs": [],
   "source": [
    "#file reading\n",
    "#Gene expression\n",
    "CCLE_TPM = pd.read_csv(\"CCLE_expression.csv\")\n",
    "CCLE_TPM.index=CCLE_TPM['Unnamed: 0']\n",
    "CCLE_TPM=CCLE_TPM.drop(columns='Unnamed: 0') \n",
    "CCLE_TPM.columns=[re.search(r\"\\S+\",i).group() for i in CCLE_TPM.columns]\n",
    "\n",
    "#data phenotype\n",
    "CCLE_pheno = pd.read_csv(\"sample_info.csv\")\n",
    "CCLE_pheno.index=CCLE_pheno['DepMap_ID']\n",
    "#Metmap\n",
    "CCLE_metmap500MP=pd.read_csv(\"MetMap_500__Metastatic_Potential.csv\") \n",
    "CCLE_metmap500MP.index=CCLE_metmap500MP['Unnamed: 0']\n",
    "CCLE_metmap500MP=CCLE_metmap500MP.drop(columns='Unnamed: 0') \n",
    "\n"
   ]
  },
  {
   "cell_type": "code",
   "execution_count": 4,
   "metadata": {},
   "outputs": [],
   "source": [
    "CCLE_pheno_lung=CCLE_pheno.loc[(CCLE_pheno['primary_disease']=='Lung Cancer') ,:]\n",
    "CCLE_metmap500MP_lung=CCLE_metmap500MP.loc[list(set(CCLE_pheno_lung.index).intersection(set(CCLE_metmap500MP.index))),:]\n",
    "CCLE_metmap500MP_lung['CCLE_name']=list(CCLE_metmap500MP_lung.index)\n",
    "CCLE_metmap500MP_lung['Celllinename']=list(CCLE_pheno.loc[CCLE_metmap500MP_lung.index,'cell_line_name'])\n",
    "\n",
    "for i in CCLE_metmap500MP_lung.columns[0:6]:\n",
    "    CCLE_metmap500MP_lung.loc[CCLE_metmap500MP_lung[i]< -2, i+'_color']='Non-metastatic'\n",
    "    CCLE_metmap500MP_lung.loc[CCLE_metmap500MP_lung[i]> -2 ,i+'_color']='Metastatic'\n",
    "CCLE_metmap500MP_lung = CCLE_metmap500MP_lung.sort_values(by=['all5'],ascending=False )"
   ]
  },
  {
   "cell_type": "code",
   "execution_count": 5,
   "metadata": {},
   "outputs": [],
   "source": [
    "CCLE_metmap500MP_lung=CCLE_metmap500MP_lung.rename(columns={\"all5_color\":\"metastatic_type\"})"
   ]
  },
  {
   "cell_type": "code",
   "execution_count": 6,
   "metadata": {},
   "outputs": [
    {
     "data": {
      "text/html": [
       "<div>\n",
       "<style scoped>\n",
       "    .dataframe tbody tr th:only-of-type {\n",
       "        vertical-align: middle;\n",
       "    }\n",
       "\n",
       "    .dataframe tbody tr th {\n",
       "        vertical-align: top;\n",
       "    }\n",
       "\n",
       "    .dataframe thead th {\n",
       "        text-align: right;\n",
       "    }\n",
       "</style>\n",
       "<table border=\"1\" class=\"dataframe\">\n",
       "  <thead>\n",
       "    <tr style=\"text-align: right;\">\n",
       "      <th></th>\n",
       "      <th>Celllinename</th>\n",
       "      <th>metastatic_type</th>\n",
       "    </tr>\n",
       "    <tr>\n",
       "      <th>Unnamed: 0</th>\n",
       "      <th></th>\n",
       "      <th></th>\n",
       "    </tr>\n",
       "  </thead>\n",
       "  <tbody>\n",
       "    <tr>\n",
       "      <th>ACH-000463</th>\n",
       "      <td>NCI-H460</td>\n",
       "      <td>Metastatic</td>\n",
       "    </tr>\n",
       "    <tr>\n",
       "      <th>ACH-000749</th>\n",
       "      <td>DMS 273</td>\n",
       "      <td>Metastatic</td>\n",
       "    </tr>\n",
       "    <tr>\n",
       "      <th>ACH-000444</th>\n",
       "      <td>LU99</td>\n",
       "      <td>Metastatic</td>\n",
       "    </tr>\n",
       "    <tr>\n",
       "      <th>ACH-000813</th>\n",
       "      <td>T3M-10</td>\n",
       "      <td>Metastatic</td>\n",
       "    </tr>\n",
       "    <tr>\n",
       "      <th>ACH-000945</th>\n",
       "      <td>NCI-H650</td>\n",
       "      <td>Metastatic</td>\n",
       "    </tr>\n",
       "    <tr>\n",
       "      <th>...</th>\n",
       "      <td>...</td>\n",
       "      <td>...</td>\n",
       "    </tr>\n",
       "    <tr>\n",
       "      <th>ACH-000390</th>\n",
       "      <td>LUDLU-1</td>\n",
       "      <td>Non-metastatic</td>\n",
       "    </tr>\n",
       "    <tr>\n",
       "      <th>ACH-000416</th>\n",
       "      <td>NCI-H838</td>\n",
       "      <td>Non-metastatic</td>\n",
       "    </tr>\n",
       "    <tr>\n",
       "      <th>ACH-000800</th>\n",
       "      <td>NCI-H446</td>\n",
       "      <td>Non-metastatic</td>\n",
       "    </tr>\n",
       "    <tr>\n",
       "      <th>ACH-000021</th>\n",
       "      <td>NCI-H1693</td>\n",
       "      <td>Non-metastatic</td>\n",
       "    </tr>\n",
       "    <tr>\n",
       "      <th>ACH-000343</th>\n",
       "      <td>NCI-H522</td>\n",
       "      <td>Non-metastatic</td>\n",
       "    </tr>\n",
       "  </tbody>\n",
       "</table>\n",
       "<p>104 rows × 2 columns</p>\n",
       "</div>"
      ],
      "text/plain": [
       "           Celllinename metastatic_type\n",
       "Unnamed: 0                             \n",
       "ACH-000463     NCI-H460      Metastatic\n",
       "ACH-000749      DMS 273      Metastatic\n",
       "ACH-000444         LU99      Metastatic\n",
       "ACH-000813       T3M-10      Metastatic\n",
       "ACH-000945     NCI-H650      Metastatic\n",
       "...                 ...             ...\n",
       "ACH-000390      LUDLU-1  Non-metastatic\n",
       "ACH-000416     NCI-H838  Non-metastatic\n",
       "ACH-000800     NCI-H446  Non-metastatic\n",
       "ACH-000021    NCI-H1693  Non-metastatic\n",
       "ACH-000343     NCI-H522  Non-metastatic\n",
       "\n",
       "[104 rows x 2 columns]"
      ]
     },
     "execution_count": 6,
     "metadata": {},
     "output_type": "execute_result"
    }
   ],
   "source": [
    "df1=CCLE_metmap500MP_lung[[\"Celllinename\",\"metastatic_type\"]]\n",
    "df1"
   ]
  },
  {
   "cell_type": "code",
   "execution_count": 7,
   "metadata": {},
   "outputs": [
    {
     "data": {
      "text/html": [
       "<div>\n",
       "<style scoped>\n",
       "    .dataframe tbody tr th:only-of-type {\n",
       "        vertical-align: middle;\n",
       "    }\n",
       "\n",
       "    .dataframe tbody tr th {\n",
       "        vertical-align: top;\n",
       "    }\n",
       "\n",
       "    .dataframe thead th {\n",
       "        text-align: right;\n",
       "    }\n",
       "</style>\n",
       "<table border=\"1\" class=\"dataframe\">\n",
       "  <thead>\n",
       "    <tr style=\"text-align: right;\">\n",
       "      <th></th>\n",
       "      <th>cell_line_name</th>\n",
       "      <th>sex</th>\n",
       "      <th>primary_or_metastasis</th>\n",
       "      <th>age</th>\n",
       "      <th>Subtype</th>\n",
       "    </tr>\n",
       "    <tr>\n",
       "      <th>DepMap_ID</th>\n",
       "      <th></th>\n",
       "      <th></th>\n",
       "      <th></th>\n",
       "      <th></th>\n",
       "      <th></th>\n",
       "    </tr>\n",
       "  </thead>\n",
       "  <tbody>\n",
       "    <tr>\n",
       "      <th>ACH-000033</th>\n",
       "      <td>NCI-H1819</td>\n",
       "      <td>Female</td>\n",
       "      <td>Metastasis</td>\n",
       "      <td>55</td>\n",
       "      <td>Non-Small Cell Lung Cancer (NSCLC), Adenocarci...</td>\n",
       "    </tr>\n",
       "    <tr>\n",
       "      <th>ACH-000179</th>\n",
       "      <td>NCI-H1618</td>\n",
       "      <td>Female</td>\n",
       "      <td>Metastasis</td>\n",
       "      <td>55</td>\n",
       "      <td>Small Cell Lung Cancer (SCLC)</td>\n",
       "    </tr>\n",
       "    <tr>\n",
       "      <th>ACH-000297</th>\n",
       "      <td>NCI-H889</td>\n",
       "      <td>Female</td>\n",
       "      <td>Metastasis</td>\n",
       "      <td>69</td>\n",
       "      <td>Small Cell Lung Cancer (SCLC)</td>\n",
       "    </tr>\n",
       "    <tr>\n",
       "      <th>ACH-000523</th>\n",
       "      <td>NCI-H1184</td>\n",
       "      <td>Male</td>\n",
       "      <td>Metastasis</td>\n",
       "      <td>42</td>\n",
       "      <td>Small Cell Lung Cancer (SCLC)</td>\n",
       "    </tr>\n",
       "    <tr>\n",
       "      <th>ACH-000553</th>\n",
       "      <td>Sq-1</td>\n",
       "      <td>Male</td>\n",
       "      <td>Primary</td>\n",
       "      <td>NaN</td>\n",
       "      <td>Non-Small Cell Lung Cancer (NSCLC), Squamous C...</td>\n",
       "    </tr>\n",
       "    <tr>\n",
       "      <th>...</th>\n",
       "      <td>...</td>\n",
       "      <td>...</td>\n",
       "      <td>...</td>\n",
       "      <td>...</td>\n",
       "      <td>...</td>\n",
       "    </tr>\n",
       "    <tr>\n",
       "      <th>ACH-002193</th>\n",
       "      <td>RERF-LC-FM</td>\n",
       "      <td>Male</td>\n",
       "      <td>Metastasis</td>\n",
       "      <td>NaN</td>\n",
       "      <td>Small Cell Lung Cancer (SCLC)</td>\n",
       "    </tr>\n",
       "    <tr>\n",
       "      <th>ACH-002196</th>\n",
       "      <td>SBC-1</td>\n",
       "      <td>Male</td>\n",
       "      <td>NaN</td>\n",
       "      <td>46</td>\n",
       "      <td>Small Cell Lung Cancer (SCLC)</td>\n",
       "    </tr>\n",
       "    <tr>\n",
       "      <th>ACH-002197</th>\n",
       "      <td>SBC-3</td>\n",
       "      <td>Male</td>\n",
       "      <td>Metastasis</td>\n",
       "      <td>24</td>\n",
       "      <td>Small Cell Lung Cancer (SCLC)</td>\n",
       "    </tr>\n",
       "    <tr>\n",
       "      <th>ACH-002286</th>\n",
       "      <td>NCI-H128</td>\n",
       "      <td>Male</td>\n",
       "      <td>Metastasis</td>\n",
       "      <td>60</td>\n",
       "      <td>Small Cell Lung Cancer (SCLC)</td>\n",
       "    </tr>\n",
       "    <tr>\n",
       "      <th>ACH-002337</th>\n",
       "      <td>JHU028</td>\n",
       "      <td>Male</td>\n",
       "      <td>Primary</td>\n",
       "      <td>52</td>\n",
       "      <td>Non-Small Cell Lung Cancer (NSCLC), Adenocarci...</td>\n",
       "    </tr>\n",
       "  </tbody>\n",
       "</table>\n",
       "<p>272 rows × 5 columns</p>\n",
       "</div>"
      ],
      "text/plain": [
       "           cell_line_name     sex primary_or_metastasis  age  \\\n",
       "DepMap_ID                                                      \n",
       "ACH-000033      NCI-H1819  Female            Metastasis   55   \n",
       "ACH-000179      NCI-H1618  Female            Metastasis   55   \n",
       "ACH-000297       NCI-H889  Female            Metastasis   69   \n",
       "ACH-000523      NCI-H1184    Male            Metastasis   42   \n",
       "ACH-000553           Sq-1    Male               Primary  NaN   \n",
       "...                   ...     ...                   ...  ...   \n",
       "ACH-002193     RERF-LC-FM    Male            Metastasis  NaN   \n",
       "ACH-002196          SBC-1    Male                   NaN   46   \n",
       "ACH-002197          SBC-3    Male            Metastasis   24   \n",
       "ACH-002286       NCI-H128    Male            Metastasis   60   \n",
       "ACH-002337         JHU028    Male               Primary   52   \n",
       "\n",
       "                                                      Subtype  \n",
       "DepMap_ID                                                      \n",
       "ACH-000033  Non-Small Cell Lung Cancer (NSCLC), Adenocarci...  \n",
       "ACH-000179                      Small Cell Lung Cancer (SCLC)  \n",
       "ACH-000297                      Small Cell Lung Cancer (SCLC)  \n",
       "ACH-000523                      Small Cell Lung Cancer (SCLC)  \n",
       "ACH-000553  Non-Small Cell Lung Cancer (NSCLC), Squamous C...  \n",
       "...                                                       ...  \n",
       "ACH-002193                      Small Cell Lung Cancer (SCLC)  \n",
       "ACH-002196                      Small Cell Lung Cancer (SCLC)  \n",
       "ACH-002197                      Small Cell Lung Cancer (SCLC)  \n",
       "ACH-002286                      Small Cell Lung Cancer (SCLC)  \n",
       "ACH-002337  Non-Small Cell Lung Cancer (NSCLC), Adenocarci...  \n",
       "\n",
       "[272 rows x 5 columns]"
      ]
     },
     "execution_count": 7,
     "metadata": {},
     "output_type": "execute_result"
    }
   ],
   "source": [
    "df2=CCLE_pheno_lung[[\"cell_line_name\",\"sex\",\"primary_or_metastasis\",\"age\",\"Subtype\"]]\n",
    "df2"
   ]
  },
  {
   "cell_type": "code",
   "execution_count": 8,
   "metadata": {
    "scrolled": true
   },
   "outputs": [
    {
     "data": {
      "text/html": [
       "<div>\n",
       "<style scoped>\n",
       "    .dataframe tbody tr th:only-of-type {\n",
       "        vertical-align: middle;\n",
       "    }\n",
       "\n",
       "    .dataframe tbody tr th {\n",
       "        vertical-align: top;\n",
       "    }\n",
       "\n",
       "    .dataframe thead th {\n",
       "        text-align: right;\n",
       "    }\n",
       "</style>\n",
       "<table border=\"1\" class=\"dataframe\">\n",
       "  <thead>\n",
       "    <tr style=\"text-align: right;\">\n",
       "      <th></th>\n",
       "      <th>cell_line_name</th>\n",
       "      <th>sex</th>\n",
       "      <th>primary_or_metastasis</th>\n",
       "      <th>age</th>\n",
       "      <th>Subtype</th>\n",
       "      <th>Celllinename</th>\n",
       "      <th>metastatic_type</th>\n",
       "    </tr>\n",
       "  </thead>\n",
       "  <tbody>\n",
       "    <tr>\n",
       "      <th>0</th>\n",
       "      <td>Sq-1</td>\n",
       "      <td>Male</td>\n",
       "      <td>Primary</td>\n",
       "      <td>NaN</td>\n",
       "      <td>Non-Small Cell Lung Cancer (NSCLC), Squamous C...</td>\n",
       "      <td>Sq-1</td>\n",
       "      <td>Non-metastatic</td>\n",
       "    </tr>\n",
       "    <tr>\n",
       "      <th>1</th>\n",
       "      <td>T3M-10</td>\n",
       "      <td>Male</td>\n",
       "      <td>Metastasis</td>\n",
       "      <td>40</td>\n",
       "      <td>Non-Small Cell Lung Cancer (NSCLC), Large Cell...</td>\n",
       "      <td>T3M-10</td>\n",
       "      <td>Metastatic</td>\n",
       "    </tr>\n",
       "    <tr>\n",
       "      <th>2</th>\n",
       "      <td>NCI-H322</td>\n",
       "      <td>Male</td>\n",
       "      <td>Primary</td>\n",
       "      <td>52</td>\n",
       "      <td>Non-Small Cell Lung Cancer (NSCLC), Adenocarci...</td>\n",
       "      <td>NCI-H322</td>\n",
       "      <td>Metastatic</td>\n",
       "    </tr>\n",
       "    <tr>\n",
       "      <th>3</th>\n",
       "      <td>NCI-H1373</td>\n",
       "      <td>Male</td>\n",
       "      <td>Primary</td>\n",
       "      <td>56</td>\n",
       "      <td>Non-Small Cell Lung Cancer (NSCLC), Adenocarci...</td>\n",
       "      <td>NCI-H1373</td>\n",
       "      <td>Metastatic</td>\n",
       "    </tr>\n",
       "    <tr>\n",
       "      <th>4</th>\n",
       "      <td>HCC-1588</td>\n",
       "      <td>Female</td>\n",
       "      <td>Primary</td>\n",
       "      <td>63</td>\n",
       "      <td>Non-Small Cell Lung Cancer (NSCLC), Squamous C...</td>\n",
       "      <td>HCC-1588</td>\n",
       "      <td>Non-metastatic</td>\n",
       "    </tr>\n",
       "    <tr>\n",
       "      <th>...</th>\n",
       "      <td>...</td>\n",
       "      <td>...</td>\n",
       "      <td>...</td>\n",
       "      <td>...</td>\n",
       "      <td>...</td>\n",
       "      <td>...</td>\n",
       "      <td>...</td>\n",
       "    </tr>\n",
       "    <tr>\n",
       "      <th>99</th>\n",
       "      <td>DV-90</td>\n",
       "      <td>Male</td>\n",
       "      <td>Metastasis</td>\n",
       "      <td>50</td>\n",
       "      <td>Non-Small Cell Lung Cancer (NSCLC), Adenocarci...</td>\n",
       "      <td>DV-90</td>\n",
       "      <td>Non-metastatic</td>\n",
       "    </tr>\n",
       "    <tr>\n",
       "      <th>100</th>\n",
       "      <td>NCI-H2110</td>\n",
       "      <td>NaN</td>\n",
       "      <td>Metastasis</td>\n",
       "      <td>NaN</td>\n",
       "      <td>Non-Small Cell Lung Cancer (NSCLC), unspecified</td>\n",
       "      <td>NCI-H2110</td>\n",
       "      <td>Metastatic</td>\n",
       "    </tr>\n",
       "    <tr>\n",
       "      <th>101</th>\n",
       "      <td>NCI-H650</td>\n",
       "      <td>Male</td>\n",
       "      <td>Metastasis</td>\n",
       "      <td>NaN</td>\n",
       "      <td>Non-Small Cell Lung Cancer (NSCLC), Adenocarci...</td>\n",
       "      <td>NCI-H650</td>\n",
       "      <td>Metastatic</td>\n",
       "    </tr>\n",
       "    <tr>\n",
       "      <th>102</th>\n",
       "      <td>NCI-H292</td>\n",
       "      <td>Female</td>\n",
       "      <td>Metastasis</td>\n",
       "      <td>32</td>\n",
       "      <td>Non-Small Cell Lung Cancer (NSCLC), Mucoepider...</td>\n",
       "      <td>NCI-H292</td>\n",
       "      <td>Metastatic</td>\n",
       "    </tr>\n",
       "    <tr>\n",
       "      <th>103</th>\n",
       "      <td>LC-1/sq-SF</td>\n",
       "      <td>Male</td>\n",
       "      <td>Primary</td>\n",
       "      <td>69</td>\n",
       "      <td>Non-Small Cell Lung Cancer (NSCLC), Squamous C...</td>\n",
       "      <td>LC-1/sq-SF</td>\n",
       "      <td>Metastatic</td>\n",
       "    </tr>\n",
       "  </tbody>\n",
       "</table>\n",
       "<p>104 rows × 7 columns</p>\n",
       "</div>"
      ],
      "text/plain": [
       "    cell_line_name     sex primary_or_metastasis  age  \\\n",
       "0             Sq-1    Male               Primary  NaN   \n",
       "1           T3M-10    Male            Metastasis   40   \n",
       "2         NCI-H322    Male               Primary   52   \n",
       "3        NCI-H1373    Male               Primary   56   \n",
       "4         HCC-1588  Female               Primary   63   \n",
       "..             ...     ...                   ...  ...   \n",
       "99           DV-90    Male            Metastasis   50   \n",
       "100      NCI-H2110     NaN            Metastasis  NaN   \n",
       "101       NCI-H650    Male            Metastasis  NaN   \n",
       "102       NCI-H292  Female            Metastasis   32   \n",
       "103     LC-1/sq-SF    Male               Primary   69   \n",
       "\n",
       "                                               Subtype Celllinename  \\\n",
       "0    Non-Small Cell Lung Cancer (NSCLC), Squamous C...         Sq-1   \n",
       "1    Non-Small Cell Lung Cancer (NSCLC), Large Cell...       T3M-10   \n",
       "2    Non-Small Cell Lung Cancer (NSCLC), Adenocarci...     NCI-H322   \n",
       "3    Non-Small Cell Lung Cancer (NSCLC), Adenocarci...    NCI-H1373   \n",
       "4    Non-Small Cell Lung Cancer (NSCLC), Squamous C...     HCC-1588   \n",
       "..                                                 ...          ...   \n",
       "99   Non-Small Cell Lung Cancer (NSCLC), Adenocarci...        DV-90   \n",
       "100    Non-Small Cell Lung Cancer (NSCLC), unspecified    NCI-H2110   \n",
       "101  Non-Small Cell Lung Cancer (NSCLC), Adenocarci...     NCI-H650   \n",
       "102  Non-Small Cell Lung Cancer (NSCLC), Mucoepider...     NCI-H292   \n",
       "103  Non-Small Cell Lung Cancer (NSCLC), Squamous C...   LC-1/sq-SF   \n",
       "\n",
       "    metastatic_type  \n",
       "0    Non-metastatic  \n",
       "1        Metastatic  \n",
       "2        Metastatic  \n",
       "3        Metastatic  \n",
       "4    Non-metastatic  \n",
       "..              ...  \n",
       "99   Non-metastatic  \n",
       "100      Metastatic  \n",
       "101      Metastatic  \n",
       "102      Metastatic  \n",
       "103      Metastatic  \n",
       "\n",
       "[104 rows x 7 columns]"
      ]
     },
     "execution_count": 8,
     "metadata": {},
     "output_type": "execute_result"
    }
   ],
   "source": [
    "df3=pd.merge(df2,df1,left_on=\"cell_line_name\",right_on=\"Celllinename\",how=\"inner\")\n",
    "df3"
   ]
  },
  {
   "cell_type": "code",
   "execution_count": 9,
   "metadata": {},
   "outputs": [
    {
     "name": "stderr",
     "output_type": "stream",
     "text": [
      "C:\\Users\\61416\\AppData\\Local\\Temp\\ipykernel_31324\\1328690229.py:3: MatplotlibDeprecationWarning: savefig() got unexpected keyword argument \"overwrite\" which is no longer supported as of 3.3 and will become an error in 3.6\n",
      "  plt.savefig(save_path+\"//\"+\"tmpa.pdf\",dpi=400,facecolor='white',overwrite=True)\n"
     ]
    },
    {
     "data": {
      "image/png": "[encoded data removed]",
      "text/plain": [
       "<Figure size 432x288 with 1 Axes>"
      ]
     },
     "metadata": {
      "needs_background": "light"
     },
     "output_type": "display_data"
    }
   ],
   "source": [
    "#the relationship between sex and metastatic_type\n",
    "p1=sns.histplot(df3,stat=\"proportion\",x=\"metastatic_type\", hue=\"sex\",color=\"sex\",multiple=\"fill\",shrink=.8)\n",
    "plt.savefig(save_path+\"//\"+\"tmpa.pdf\",dpi=400,facecolor='white',overwrite=True)\n"
   ]
  },
  {
   "cell_type": "code",
   "execution_count": 62,
   "metadata": {},
   "outputs": [
    {
     "data": {
      "text/plain": [
       "Male      33\n",
       "Female    16\n",
       "Name: sex, dtype: int64"
      ]
     },
     "execution_count": 62,
     "metadata": {},
     "output_type": "execute_result"
    }
   ],
   "source": [
    "df3_Non_metastatic=df3[df3[\"metastatic_type\"]==\"Non-metastatic\"]\n",
    "df3_Non_metastatic[\"sex\"].value_counts()\n"
   ]
  },
  {
   "cell_type": "code",
   "execution_count": 63,
   "metadata": {},
   "outputs": [
    {
     "data": {
      "text/plain": [
       "Male      40\n",
       "Female    14\n",
       "Name: sex, dtype: int64"
      ]
     },
     "execution_count": 63,
     "metadata": {},
     "output_type": "execute_result"
    }
   ],
   "source": [
    "df3_Mmetastatic=df3[df3[\"metastatic_type\"]==\"Metastatic\"]\n",
    "df3_Mmetastatic[\"sex\"].value_counts()\n"
   ]
  },
  {
   "cell_type": "code",
   "execution_count": 64,
   "metadata": {},
   "outputs": [
    {
     "name": "stdout",
     "output_type": "stream",
     "text": [
      "chisp-statistic=0.2844,p-value=0.5938,df=1 expected_frep=[[34.72815534 14.27184466]\n",
      " [38.27184466 15.72815534]]\n"
     ]
    }
   ],
   "source": [
    "#F-test between sex and metastatic_type\n",
    "sex_metastatic_data=np.array([[33,16],[40,14]])\n",
    "kf1=chi2_contingency(sex_metastatic_data)\n",
    "print(\"chisp-statistic=%.4f,p-value=%.4f,df=%i expected_frep=%s\"%kf1)"
   ]
  },
  {
   "cell_type": "code",
   "execution_count": 10,
   "metadata": {
    "scrolled": true
   },
   "outputs": [
    {
     "name": "stderr",
     "output_type": "stream",
     "text": [
      "C:\\Users\\61416\\AppData\\Local\\Temp\\ipykernel_31324\\2077930650.py:3: MatplotlibDeprecationWarning: savefig() got unexpected keyword argument \"overwrite\" which is no longer supported as of 3.3 and will become an error in 3.6\n",
      "  plt.savefig(save_path+\"//\"+\"tmpb.pdf\",dpi=400,facecolor='white',overwrite=True)\n"
     ]
    },
    {
     "data": {
      "image/png": "[encoded data removed]",
      "text/plain": [
       "<Figure size 432x288 with 1 Axes>"
      ]
     },
     "metadata": {
      "needs_background": "light"
     },
     "output_type": "display_data"
    }
   ],
   "source": [
    "#the relationship between primary_or_metastasis and metastatic_type\n",
    "p2=sns.histplot(df3,stat=\"proportion\", x=\"metastatic_type\", hue=\"primary_or_metastasis\",color=\"primary_or_metastasis\",multiple=\"fill\",shrink=.8)\n",
    "plt.savefig(save_path+\"//\"+\"tmpb.pdf\",dpi=400,facecolor='white',overwrite=True)\n"
   ]
  },
  {
   "cell_type": "code",
   "execution_count": 65,
   "metadata": {},
   "outputs": [
    {
     "data": {
      "text/plain": [
       "Primary       24\n",
       "Metastasis    22\n",
       "Name: primary_or_metastasis, dtype: int64"
      ]
     },
     "execution_count": 65,
     "metadata": {},
     "output_type": "execute_result"
    }
   ],
   "source": [
    "df3_Non_metastatic[\"primary_or_metastasis\"].value_counts()"
   ]
  },
  {
   "cell_type": "code",
   "execution_count": 66,
   "metadata": {},
   "outputs": [
    {
     "data": {
      "text/plain": [
       "Metastasis    32\n",
       "Primary       23\n",
       "Name: primary_or_metastasis, dtype: int64"
      ]
     },
     "execution_count": 66,
     "metadata": {},
     "output_type": "execute_result"
    }
   ],
   "source": [
    "df3_Mmetastatic[\"primary_or_metastasis\"].value_counts()"
   ]
  },
  {
   "cell_type": "code",
   "execution_count": 67,
   "metadata": {},
   "outputs": [
    {
     "name": "stdout",
     "output_type": "stream",
     "text": [
      "chisp-statistic=0.1632,p-value=0.6862,df=1 expected_frep=[[25.5049505 20.4950495]\n",
      " [30.4950495 24.5049505]]\n"
     ]
    }
   ],
   "source": [
    "#F-test between primary_or_metastasis and metastatic_type\n",
    "primary_or_metastasis_metastatic_data=np.array([[24,22],[32,23]])\n",
    "kf2=chi2_contingency(primary_or_metastasis_metastatic_data)\n",
    "print(\"chisp-statistic=%.4f,p-value=%.4f,df=%i expected_frep=%s\"%kf2)"
   ]
  },
  {
   "cell_type": "code",
   "execution_count": 11,
   "metadata": {},
   "outputs": [
    {
     "data": {
      "text/plain": [
       "Non-Small Cell Lung Cancer (NSCLC), Adenocarcinoma              47\n",
       "Non-Small Cell Lung Cancer (NSCLC), Squamous Cell Carcinoma     19\n",
       "Non-Small Cell Lung Cancer (NSCLC), Large Cell Carcinoma        12\n",
       "Mesothelioma                                                     8\n",
       "Small Cell Lung Cancer (SCLC)                                    7\n",
       "Non-Small Cell Lung Cancer (NSCLC), unspecified                  6\n",
       "Non-Small Cell Lung Cancer (NSCLC), Adenosquamous Carcinoma      3\n",
       "Carcinoid                                                        1\n",
       "Non-Small Cell Lung Cancer (NSCLC), Mucoepidermoid Carcinoma     1\n",
       "Name: Subtype, dtype: int64"
      ]
     },
     "execution_count": 11,
     "metadata": {},
     "output_type": "execute_result"
    }
   ],
   "source": [
    "df3[\"Subtype\"].value_counts()"
   ]
  },
  {
   "cell_type": "code",
   "execution_count": 12,
   "metadata": {
    "scrolled": true
   },
   "outputs": [
    {
     "data": {
      "text/html": [
       "<div>\n",
       "<style scoped>\n",
       "    .dataframe tbody tr th:only-of-type {\n",
       "        vertical-align: middle;\n",
       "    }\n",
       "\n",
       "    .dataframe tbody tr th {\n",
       "        vertical-align: top;\n",
       "    }\n",
       "\n",
       "    .dataframe thead th {\n",
       "        text-align: right;\n",
       "    }\n",
       "</style>\n",
       "<table border=\"1\" class=\"dataframe\">\n",
       "  <thead>\n",
       "    <tr style=\"text-align: right;\">\n",
       "      <th></th>\n",
       "      <th>cell_line_name</th>\n",
       "      <th>sex</th>\n",
       "      <th>primary_or_metastasis</th>\n",
       "      <th>age</th>\n",
       "      <th>Subtype</th>\n",
       "      <th>Celllinename</th>\n",
       "      <th>metastatic_type</th>\n",
       "    </tr>\n",
       "  </thead>\n",
       "  <tbody>\n",
       "    <tr>\n",
       "      <th>0</th>\n",
       "      <td>Sq-1</td>\n",
       "      <td>Male</td>\n",
       "      <td>Primary</td>\n",
       "      <td>NaN</td>\n",
       "      <td>Non-Small Cell Lung Cancer (NSCLC), Squamous C...</td>\n",
       "      <td>Sq-1</td>\n",
       "      <td>Non-metastatic</td>\n",
       "    </tr>\n",
       "    <tr>\n",
       "      <th>1</th>\n",
       "      <td>T3M-10</td>\n",
       "      <td>Male</td>\n",
       "      <td>Metastasis</td>\n",
       "      <td>40</td>\n",
       "      <td>Non-Small Cell Lung Cancer (NSCLC), Large Cell...</td>\n",
       "      <td>T3M-10</td>\n",
       "      <td>Metastatic</td>\n",
       "    </tr>\n",
       "    <tr>\n",
       "      <th>2</th>\n",
       "      <td>NCI-H322</td>\n",
       "      <td>Male</td>\n",
       "      <td>Primary</td>\n",
       "      <td>52</td>\n",
       "      <td>Non-Small Cell Lung Cancer (NSCLC), Adenocarci...</td>\n",
       "      <td>NCI-H322</td>\n",
       "      <td>Metastatic</td>\n",
       "    </tr>\n",
       "    <tr>\n",
       "      <th>3</th>\n",
       "      <td>NCI-H1373</td>\n",
       "      <td>Male</td>\n",
       "      <td>Primary</td>\n",
       "      <td>56</td>\n",
       "      <td>Non-Small Cell Lung Cancer (NSCLC), Adenocarci...</td>\n",
       "      <td>NCI-H1373</td>\n",
       "      <td>Metastatic</td>\n",
       "    </tr>\n",
       "    <tr>\n",
       "      <th>4</th>\n",
       "      <td>HCC-1588</td>\n",
       "      <td>Female</td>\n",
       "      <td>Primary</td>\n",
       "      <td>63</td>\n",
       "      <td>Non-Small Cell Lung Cancer (NSCLC), Squamous C...</td>\n",
       "      <td>HCC-1588</td>\n",
       "      <td>Non-metastatic</td>\n",
       "    </tr>\n",
       "    <tr>\n",
       "      <th>...</th>\n",
       "      <td>...</td>\n",
       "      <td>...</td>\n",
       "      <td>...</td>\n",
       "      <td>...</td>\n",
       "      <td>...</td>\n",
       "      <td>...</td>\n",
       "      <td>...</td>\n",
       "    </tr>\n",
       "    <tr>\n",
       "      <th>96</th>\n",
       "      <td>HCC-1359</td>\n",
       "      <td>Female</td>\n",
       "      <td>Primary</td>\n",
       "      <td>55</td>\n",
       "      <td>Non-Small Cell Lung Cancer (NSCLC), Large Cell...</td>\n",
       "      <td>HCC-1359</td>\n",
       "      <td>Non-metastatic</td>\n",
       "    </tr>\n",
       "    <tr>\n",
       "      <th>97</th>\n",
       "      <td>NCI-H1573</td>\n",
       "      <td>Female</td>\n",
       "      <td>Metastasis</td>\n",
       "      <td>35</td>\n",
       "      <td>Non-Small Cell Lung Cancer (NSCLC), Adenocarci...</td>\n",
       "      <td>NCI-H1573</td>\n",
       "      <td>Metastatic</td>\n",
       "    </tr>\n",
       "    <tr>\n",
       "      <th>99</th>\n",
       "      <td>DV-90</td>\n",
       "      <td>Male</td>\n",
       "      <td>Metastasis</td>\n",
       "      <td>50</td>\n",
       "      <td>Non-Small Cell Lung Cancer (NSCLC), Adenocarci...</td>\n",
       "      <td>DV-90</td>\n",
       "      <td>Non-metastatic</td>\n",
       "    </tr>\n",
       "    <tr>\n",
       "      <th>101</th>\n",
       "      <td>NCI-H650</td>\n",
       "      <td>Male</td>\n",
       "      <td>Metastasis</td>\n",
       "      <td>NaN</td>\n",
       "      <td>Non-Small Cell Lung Cancer (NSCLC), Adenocarci...</td>\n",
       "      <td>NCI-H650</td>\n",
       "      <td>Metastatic</td>\n",
       "    </tr>\n",
       "    <tr>\n",
       "      <th>103</th>\n",
       "      <td>LC-1/sq-SF</td>\n",
       "      <td>Male</td>\n",
       "      <td>Primary</td>\n",
       "      <td>69</td>\n",
       "      <td>Non-Small Cell Lung Cancer (NSCLC), Squamous C...</td>\n",
       "      <td>LC-1/sq-SF</td>\n",
       "      <td>Metastatic</td>\n",
       "    </tr>\n",
       "  </tbody>\n",
       "</table>\n",
       "<p>93 rows × 7 columns</p>\n",
       "</div>"
      ],
      "text/plain": [
       "    cell_line_name     sex primary_or_metastasis  age  \\\n",
       "0             Sq-1    Male               Primary  NaN   \n",
       "1           T3M-10    Male            Metastasis   40   \n",
       "2         NCI-H322    Male               Primary   52   \n",
       "3        NCI-H1373    Male               Primary   56   \n",
       "4         HCC-1588  Female               Primary   63   \n",
       "..             ...     ...                   ...  ...   \n",
       "96        HCC-1359  Female               Primary   55   \n",
       "97       NCI-H1573  Female            Metastasis   35   \n",
       "99           DV-90    Male            Metastasis   50   \n",
       "101       NCI-H650    Male            Metastasis  NaN   \n",
       "103     LC-1/sq-SF    Male               Primary   69   \n",
       "\n",
       "                                               Subtype Celllinename  \\\n",
       "0    Non-Small Cell Lung Cancer (NSCLC), Squamous C...         Sq-1   \n",
       "1    Non-Small Cell Lung Cancer (NSCLC), Large Cell...       T3M-10   \n",
       "2    Non-Small Cell Lung Cancer (NSCLC), Adenocarci...     NCI-H322   \n",
       "3    Non-Small Cell Lung Cancer (NSCLC), Adenocarci...    NCI-H1373   \n",
       "4    Non-Small Cell Lung Cancer (NSCLC), Squamous C...     HCC-1588   \n",
       "..                                                 ...          ...   \n",
       "96   Non-Small Cell Lung Cancer (NSCLC), Large Cell...     HCC-1359   \n",
       "97   Non-Small Cell Lung Cancer (NSCLC), Adenocarci...    NCI-H1573   \n",
       "99   Non-Small Cell Lung Cancer (NSCLC), Adenocarci...        DV-90   \n",
       "101  Non-Small Cell Lung Cancer (NSCLC), Adenocarci...     NCI-H650   \n",
       "103  Non-Small Cell Lung Cancer (NSCLC), Squamous C...   LC-1/sq-SF   \n",
       "\n",
       "    metastatic_type  \n",
       "0    Non-metastatic  \n",
       "1        Metastatic  \n",
       "2        Metastatic  \n",
       "3        Metastatic  \n",
       "4    Non-metastatic  \n",
       "..              ...  \n",
       "96   Non-metastatic  \n",
       "97       Metastatic  \n",
       "99   Non-metastatic  \n",
       "101      Metastatic  \n",
       "103      Metastatic  \n",
       "\n",
       "[93 rows x 7 columns]"
      ]
     },
     "execution_count": 12,
     "metadata": {},
     "output_type": "execute_result"
    }
   ],
   "source": [
    "data2=df3[df3[\"Subtype\"].isin([\"Non-Small Cell Lung Cancer (NSCLC), Squamous Cell Carcinoma\",\n",
    " \"Non-Small Cell Lung Cancer (NSCLC), Large Cell Carcinoma\",\n",
    " \"Non-Small Cell Lung Cancer (NSCLC), Adenocarcinoma\",\n",
    " \"Mesothelioma\",\"Small Cell Lung Cancer (SCLC)\"])]\n",
    "data2"
   ]
  },
  {
   "cell_type": "code",
   "execution_count": 34,
   "metadata": {},
   "outputs": [
    {
     "data": {
      "text/html": [
       "<div>\n",
       "<style scoped>\n",
       "    .dataframe tbody tr th:only-of-type {\n",
       "        vertical-align: middle;\n",
       "    }\n",
       "\n",
       "    .dataframe tbody tr th {\n",
       "        vertical-align: top;\n",
       "    }\n",
       "\n",
       "    .dataframe thead th {\n",
       "        text-align: right;\n",
       "    }\n",
       "</style>\n",
       "<table border=\"1\" class=\"dataframe\">\n",
       "  <thead>\n",
       "    <tr style=\"text-align: right;\">\n",
       "      <th></th>\n",
       "      <th>cell_line_name</th>\n",
       "      <th>sex</th>\n",
       "      <th>primary_or_metastasis</th>\n",
       "      <th>age</th>\n",
       "      <th>Subtype</th>\n",
       "      <th>Celllinename</th>\n",
       "      <th>metastatic_type</th>\n",
       "    </tr>\n",
       "  </thead>\n",
       "  <tbody>\n",
       "    <tr>\n",
       "      <th>12</th>\n",
       "      <td>ACC-MESO-1</td>\n",
       "      <td>Female</td>\n",
       "      <td>NaN</td>\n",
       "      <td>61</td>\n",
       "      <td>Mesothelioma</td>\n",
       "      <td>ACC-MESO-1</td>\n",
       "      <td>Non-metastatic</td>\n",
       "    </tr>\n",
       "    <tr>\n",
       "      <th>13</th>\n",
       "      <td>NCI-H2452</td>\n",
       "      <td>Male</td>\n",
       "      <td>Metastasis</td>\n",
       "      <td>Adult</td>\n",
       "      <td>Mesothelioma</td>\n",
       "      <td>NCI-H2452</td>\n",
       "      <td>Non-metastatic</td>\n",
       "    </tr>\n",
       "    <tr>\n",
       "      <th>14</th>\n",
       "      <td>NCI-H2052</td>\n",
       "      <td>Male</td>\n",
       "      <td>Metastasis</td>\n",
       "      <td>65</td>\n",
       "      <td>Mesothelioma</td>\n",
       "      <td>NCI-H2052</td>\n",
       "      <td>Non-metastatic</td>\n",
       "    </tr>\n",
       "    <tr>\n",
       "      <th>23</th>\n",
       "      <td>MPP 89</td>\n",
       "      <td>Male</td>\n",
       "      <td>NaN</td>\n",
       "      <td>67</td>\n",
       "      <td>Mesothelioma</td>\n",
       "      <td>MPP 89</td>\n",
       "      <td>Non-metastatic</td>\n",
       "    </tr>\n",
       "    <tr>\n",
       "      <th>24</th>\n",
       "      <td>IST-MES2</td>\n",
       "      <td>Male</td>\n",
       "      <td>NaN</td>\n",
       "      <td>71</td>\n",
       "      <td>Mesothelioma</td>\n",
       "      <td>IST-MES2</td>\n",
       "      <td>Non-metastatic</td>\n",
       "    </tr>\n",
       "    <tr>\n",
       "      <th>25</th>\n",
       "      <td>MSTO-211H</td>\n",
       "      <td>Male</td>\n",
       "      <td>Metastasis</td>\n",
       "      <td>62</td>\n",
       "      <td>Mesothelioma</td>\n",
       "      <td>MSTO-211H</td>\n",
       "      <td>Non-metastatic</td>\n",
       "    </tr>\n",
       "    <tr>\n",
       "      <th>46</th>\n",
       "      <td>IST-MES1</td>\n",
       "      <td>Female</td>\n",
       "      <td>Primary</td>\n",
       "      <td>70</td>\n",
       "      <td>Mesothelioma</td>\n",
       "      <td>IST-MES1</td>\n",
       "      <td>Non-metastatic</td>\n",
       "    </tr>\n",
       "    <tr>\n",
       "      <th>52</th>\n",
       "      <td>NCI-H28</td>\n",
       "      <td>Male</td>\n",
       "      <td>Metastasis</td>\n",
       "      <td>48</td>\n",
       "      <td>Mesothelioma</td>\n",
       "      <td>NCI-H28</td>\n",
       "      <td>Non-metastatic</td>\n",
       "    </tr>\n",
       "  </tbody>\n",
       "</table>\n",
       "</div>"
      ],
      "text/plain": [
       "   cell_line_name     sex primary_or_metastasis    age       Subtype  \\\n",
       "12     ACC-MESO-1  Female                   NaN     61  Mesothelioma   \n",
       "13      NCI-H2452    Male            Metastasis  Adult  Mesothelioma   \n",
       "14      NCI-H2052    Male            Metastasis     65  Mesothelioma   \n",
       "23         MPP 89    Male                   NaN     67  Mesothelioma   \n",
       "24       IST-MES2    Male                   NaN     71  Mesothelioma   \n",
       "25      MSTO-211H    Male            Metastasis     62  Mesothelioma   \n",
       "46       IST-MES1  Female               Primary     70  Mesothelioma   \n",
       "52        NCI-H28    Male            Metastasis     48  Mesothelioma   \n",
       "\n",
       "   Celllinename metastatic_type  \n",
       "12   ACC-MESO-1  Non-metastatic  \n",
       "13    NCI-H2452  Non-metastatic  \n",
       "14    NCI-H2052  Non-metastatic  \n",
       "23       MPP 89  Non-metastatic  \n",
       "24     IST-MES2  Non-metastatic  \n",
       "25    MSTO-211H  Non-metastatic  \n",
       "46     IST-MES1  Non-metastatic  \n",
       "52      NCI-H28  Non-metastatic  "
      ]
     },
     "execution_count": 34,
     "metadata": {},
     "output_type": "execute_result"
    }
   ],
   "source": [
    "data2[data2[\"Subtype\"]==\"Mesothelioma\"]"
   ]
  },
  {
   "cell_type": "code",
   "execution_count": 39,
   "metadata": {
    "scrolled": true
   },
   "outputs": [
    {
     "name": "stderr",
     "output_type": "stream",
     "text": [
      "C:\\Users\\61416\\AppData\\Local\\Temp\\ipykernel_31324\\890082085.py:8: MatplotlibDeprecationWarning: savefig() got unexpected keyword argument \"overwrite\" which is no longer supported as of 3.3 and will become an error in 3.6\n",
      "  plt.savefig(save_path+\"//\"+\"tmpc.pdf\",dpi=400,facecolor='white',bbox_inches=\"tight\",overwrite=True)\n"
     ]
    },
    {
     "data": {
      "image/png": "[encoded data removed]",
      "text/plain": [
       "<Figure size 432x288 with 1 Axes>"
      ]
     },
     "metadata": {
      "needs_background": "light"
     },
     "output_type": "display_data"
    }
   ],
   "source": [
    "#the relationship between Subtype and metastatic_type\n",
    "fig=sns.histplot(data2,stat=\"proportion\", x=\"metastatic_type\", hue=\"Subtype\",color=\"Subtype\",legend=False,multiple=\"fill\",shrink=.8)\n",
    "plt.legend(labels = ['Small Cell Lung Cancer (SCLC)',\n",
    " 'Mesothelioma',\n",
    " 'Non-Small Cell Lung Cancer (NSCLC), Adenocarcinoma',\n",
    " 'Non-Small Cell Lung Cancer (NSCLC), Large Cell Carcinoma',\n",
    " 'Non-Small Cell Lung Cancer (NSCLC), Squamous Cell Carcinoma'],loc = 'upper right',bbox_to_anchor=(1.02,-0.13))\n",
    "plt.savefig(save_path+\"//\"+\"tmpc.pdf\",dpi=400,facecolor='white',bbox_inches=\"tight\",overwrite=True)"
   ]
  },
  {
   "cell_type": "code",
   "execution_count": 14,
   "metadata": {
    "scrolled": true
   },
   "outputs": [
    {
     "data": {
      "text/html": [
       "<div>\n",
       "<style scoped>\n",
       "    .dataframe tbody tr th:only-of-type {\n",
       "        vertical-align: middle;\n",
       "    }\n",
       "\n",
       "    .dataframe tbody tr th {\n",
       "        vertical-align: top;\n",
       "    }\n",
       "\n",
       "    .dataframe thead th {\n",
       "        text-align: right;\n",
       "    }\n",
       "</style>\n",
       "<table border=\"1\" class=\"dataframe\">\n",
       "  <thead>\n",
       "    <tr style=\"text-align: right;\">\n",
       "      <th></th>\n",
       "      <th>cell_line_name</th>\n",
       "      <th>sex</th>\n",
       "      <th>primary_or_metastasis</th>\n",
       "      <th>age</th>\n",
       "      <th>Subtype</th>\n",
       "      <th>Celllinename</th>\n",
       "      <th>metastatic_type</th>\n",
       "    </tr>\n",
       "  </thead>\n",
       "  <tbody>\n",
       "    <tr>\n",
       "      <th>0</th>\n",
       "      <td>Sq-1</td>\n",
       "      <td>Male</td>\n",
       "      <td>Primary</td>\n",
       "      <td>NaN</td>\n",
       "      <td>Non-Small Cell Lung Cancer (NSCLC), Squamous C...</td>\n",
       "      <td>Sq-1</td>\n",
       "      <td>Non-metastatic</td>\n",
       "    </tr>\n",
       "    <tr>\n",
       "      <th>1</th>\n",
       "      <td>T3M-10</td>\n",
       "      <td>Male</td>\n",
       "      <td>Metastasis</td>\n",
       "      <td>40</td>\n",
       "      <td>Non-Small Cell Lung Cancer (NSCLC), Large Cell...</td>\n",
       "      <td>T3M-10</td>\n",
       "      <td>Metastatic</td>\n",
       "    </tr>\n",
       "    <tr>\n",
       "      <th>2</th>\n",
       "      <td>NCI-H322</td>\n",
       "      <td>Male</td>\n",
       "      <td>Primary</td>\n",
       "      <td>52</td>\n",
       "      <td>Non-Small Cell Lung Cancer (NSCLC), Adenocarci...</td>\n",
       "      <td>NCI-H322</td>\n",
       "      <td>Metastatic</td>\n",
       "    </tr>\n",
       "    <tr>\n",
       "      <th>3</th>\n",
       "      <td>NCI-H1373</td>\n",
       "      <td>Male</td>\n",
       "      <td>Primary</td>\n",
       "      <td>56</td>\n",
       "      <td>Non-Small Cell Lung Cancer (NSCLC), Adenocarci...</td>\n",
       "      <td>NCI-H1373</td>\n",
       "      <td>Metastatic</td>\n",
       "    </tr>\n",
       "    <tr>\n",
       "      <th>4</th>\n",
       "      <td>HCC-1588</td>\n",
       "      <td>Female</td>\n",
       "      <td>Primary</td>\n",
       "      <td>63</td>\n",
       "      <td>Non-Small Cell Lung Cancer (NSCLC), Squamous C...</td>\n",
       "      <td>HCC-1588</td>\n",
       "      <td>Non-metastatic</td>\n",
       "    </tr>\n",
       "    <tr>\n",
       "      <th>...</th>\n",
       "      <td>...</td>\n",
       "      <td>...</td>\n",
       "      <td>...</td>\n",
       "      <td>...</td>\n",
       "      <td>...</td>\n",
       "      <td>...</td>\n",
       "      <td>...</td>\n",
       "    </tr>\n",
       "    <tr>\n",
       "      <th>99</th>\n",
       "      <td>DV-90</td>\n",
       "      <td>Male</td>\n",
       "      <td>Metastasis</td>\n",
       "      <td>50</td>\n",
       "      <td>Non-Small Cell Lung Cancer (NSCLC), Adenocarci...</td>\n",
       "      <td>DV-90</td>\n",
       "      <td>Non-metastatic</td>\n",
       "    </tr>\n",
       "    <tr>\n",
       "      <th>100</th>\n",
       "      <td>NCI-H2110</td>\n",
       "      <td>NaN</td>\n",
       "      <td>Metastasis</td>\n",
       "      <td>NaN</td>\n",
       "      <td>Non-Small Cell Lung Cancer (NSCLC), unspecified</td>\n",
       "      <td>NCI-H2110</td>\n",
       "      <td>Metastatic</td>\n",
       "    </tr>\n",
       "    <tr>\n",
       "      <th>101</th>\n",
       "      <td>NCI-H650</td>\n",
       "      <td>Male</td>\n",
       "      <td>Metastasis</td>\n",
       "      <td>NaN</td>\n",
       "      <td>Non-Small Cell Lung Cancer (NSCLC), Adenocarci...</td>\n",
       "      <td>NCI-H650</td>\n",
       "      <td>Metastatic</td>\n",
       "    </tr>\n",
       "    <tr>\n",
       "      <th>102</th>\n",
       "      <td>NCI-H292</td>\n",
       "      <td>Female</td>\n",
       "      <td>Metastasis</td>\n",
       "      <td>32</td>\n",
       "      <td>Non-Small Cell Lung Cancer (NSCLC), Mucoepider...</td>\n",
       "      <td>NCI-H292</td>\n",
       "      <td>Metastatic</td>\n",
       "    </tr>\n",
       "    <tr>\n",
       "      <th>103</th>\n",
       "      <td>LC-1/sq-SF</td>\n",
       "      <td>Male</td>\n",
       "      <td>Primary</td>\n",
       "      <td>69</td>\n",
       "      <td>Non-Small Cell Lung Cancer (NSCLC), Squamous C...</td>\n",
       "      <td>LC-1/sq-SF</td>\n",
       "      <td>Metastatic</td>\n",
       "    </tr>\n",
       "  </tbody>\n",
       "</table>\n",
       "<p>102 rows × 7 columns</p>\n",
       "</div>"
      ],
      "text/plain": [
       "    cell_line_name     sex primary_or_metastasis  age  \\\n",
       "0             Sq-1    Male               Primary  NaN   \n",
       "1           T3M-10    Male            Metastasis   40   \n",
       "2         NCI-H322    Male               Primary   52   \n",
       "3        NCI-H1373    Male               Primary   56   \n",
       "4         HCC-1588  Female               Primary   63   \n",
       "..             ...     ...                   ...  ...   \n",
       "99           DV-90    Male            Metastasis   50   \n",
       "100      NCI-H2110     NaN            Metastasis  NaN   \n",
       "101       NCI-H650    Male            Metastasis  NaN   \n",
       "102       NCI-H292  Female            Metastasis   32   \n",
       "103     LC-1/sq-SF    Male               Primary   69   \n",
       "\n",
       "                                               Subtype Celllinename  \\\n",
       "0    Non-Small Cell Lung Cancer (NSCLC), Squamous C...         Sq-1   \n",
       "1    Non-Small Cell Lung Cancer (NSCLC), Large Cell...       T3M-10   \n",
       "2    Non-Small Cell Lung Cancer (NSCLC), Adenocarci...     NCI-H322   \n",
       "3    Non-Small Cell Lung Cancer (NSCLC), Adenocarci...    NCI-H1373   \n",
       "4    Non-Small Cell Lung Cancer (NSCLC), Squamous C...     HCC-1588   \n",
       "..                                                 ...          ...   \n",
       "99   Non-Small Cell Lung Cancer (NSCLC), Adenocarci...        DV-90   \n",
       "100    Non-Small Cell Lung Cancer (NSCLC), unspecified    NCI-H2110   \n",
       "101  Non-Small Cell Lung Cancer (NSCLC), Adenocarci...     NCI-H650   \n",
       "102  Non-Small Cell Lung Cancer (NSCLC), Mucoepider...     NCI-H292   \n",
       "103  Non-Small Cell Lung Cancer (NSCLC), Squamous C...   LC-1/sq-SF   \n",
       "\n",
       "    metastatic_type  \n",
       "0    Non-metastatic  \n",
       "1        Metastatic  \n",
       "2        Metastatic  \n",
       "3        Metastatic  \n",
       "4    Non-metastatic  \n",
       "..              ...  \n",
       "99   Non-metastatic  \n",
       "100      Metastatic  \n",
       "101      Metastatic  \n",
       "102      Metastatic  \n",
       "103      Metastatic  \n",
       "\n",
       "[102 rows x 7 columns]"
      ]
     },
     "execution_count": 14,
     "metadata": {},
     "output_type": "execute_result"
    }
   ],
   "source": [
    "data1=df3.drop(index=(df3.loc[(df3['age']=='Adult')].index))\n",
    "data1"
   ]
  },
  {
   "cell_type": "code",
   "execution_count": 15,
   "metadata": {},
   "outputs": [
    {
     "name": "stdout",
     "output_type": "stream",
     "text": [
      "p-value annotation legend:\n",
      "ns: 5.00e-02 < p <= 1.00e+00\n",
      "*: 1.00e-02 < p <= 5.00e-02\n",
      "**: 1.00e-03 < p <= 1.00e-02\n",
      "***: 1.00e-04 < p <= 1.00e-03\n",
      "****: p <= 1.00e-04\n",
      "\n",
      "Non-metastatic v.s. Metastatic: Mann-Whitney-Wilcoxon test two-sided with Bonferroni correction, P_val=3.340e-04 U_stat=1.228e+03\n"
     ]
    },
    {
     "name": "stderr",
     "output_type": "stream",
     "text": [
      "C:\\Users\\61416\\AppData\\Local\\Temp\\ipykernel_31324\\2784897801.py:6: MatplotlibDeprecationWarning: savefig() got unexpected keyword argument \"overwrite\" which is no longer supported as of 3.3 and will become an error in 3.6\n",
      "  plt.savefig(save_path+\"//\"+\"tmpd.pdf\",dpi=400,facecolor='white',overwrite=True)\n"
     ]
    },
    {
     "data": {
      "image/png": "[encoded data removed]",
      "text/plain": [
       "<Figure size 432x288 with 1 Axes>"
      ]
     },
     "metadata": {
      "needs_background": "light"
     },
     "output_type": "display_data"
    }
   ],
   "source": [
    "#the relationship between age and metastatic_type\n",
    "foo = data1.explode('age')\n",
    "foo['age'] = foo['age'].astype('float')\n",
    "p4=sns.boxplot(data=foo,x=\"metastatic_type\", y=\"age\")\n",
    "test_results = add_stat_annotation(p4,data=foo, x=\"metastatic_type\", y=\"age\",box_pairs=[(\"Non-metastatic\", \"Metastatic\")],test='Mann-Whitney', text_format='star',loc='outside', verbose=2)\n",
    "plt.savefig(save_path+\"//\"+\"tmpd.pdf\",dpi=400,facecolor='white',overwrite=True)"
   ]
  },
  {
   "cell_type": "code",
   "execution_count": 16,
   "metadata": {
    "scrolled": true
   },
   "outputs": [
    {
     "name": "stderr",
     "output_type": "stream",
     "text": [
      "C:\\Users\\61416\\AppData\\Local\\Temp\\ipykernel_31324\\998021593.py:8: MatplotlibDeprecationWarning: savefig() got unexpected keyword argument \"overwrite\" which is no longer supported as of 3.3 and will become an error in 3.6\n",
      "  plt.savefig(\"D:\\CCLE\\pic\"+\"\\\\\"+\"tmp1.pdf\",dpi=400,facecolor='white',overwrite=True)\n"
     ]
    },
    {
     "data": {
      "image/png": "[encoded data removed]",
      "text/plain": [
       "<Figure size 1080x360 with 1 Axes>"
      ]
     },
     "metadata": {
      "needs_background": "light"
     },
     "output_type": "display_data"
    }
   ],
   "source": [
    "fig = plt.figure(figsize=(15, 5)) \n",
    "ax = fig.add_subplot(111)\n",
    "bars =sns.barplot(x= 'Celllinename', y='all5',hue='metastatic_type',data=CCLE_metmap500MP_lung,order=CCLE_metmap500MP_lung.sort_values(by='all5')['Celllinename'] )\n",
    "x_axis = bars.axes.get_xaxis()\n",
    "plt.setp(ax.get_xticklabels(), ha=\"right\", rotation=45,fontsize=8)\n",
    "ax.legend(title='Type')\n",
    "plt.ylabel(\"All Metastatic Potential\")\n",
    "plt.savefig(\"D:\\CCLE\\pic\"+\"\\\\\"+\"tmp1.pdf\",dpi=400,facecolor='white',overwrite=True)"
   ]
  }
 ],
 "metadata": {
  "kernelspec": {
   "display_name": "Python 3 (ipykernel)",
   "language": "python",
   "name": "python3"
  },
  "language_info": {
   "codemirror_mode": {
    "name": "ipython",
    "version": 3
   },
   "file_extension": ".py",
   "mimetype": "text/x-python",
   "name": "python",
   "nbconvert_exporter": "python",
   "pygments_lexer": "ipython3",
   "version": "3.9.12"
  },
  "vscode": {
   "interpreter": {
    "hash": "48d72a15cdb4bb7b14495a14bafc6cfc9963a757983b4b0d91c090b9f95271d6"
   }
  }
 },
 "nbformat": 4,
 "nbformat_minor": 2
}
